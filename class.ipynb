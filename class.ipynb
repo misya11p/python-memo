{
 "cells": [
  {
   "cell_type": "markdown",
   "metadata": {},
   "source": [
    "# class\n",
    "\n",
    "Pythonの型やclassについて学ぼう。"
   ]
  },
  {
   "cell_type": "markdown",
   "metadata": {},
   "source": [
    "## `type`\n",
    "\n",
    "インスタンスとしてオブジェクトの型を返すクラス。関数ではない。"
   ]
  },
  {
   "cell_type": "code",
   "execution_count": 1,
   "metadata": {},
   "outputs": [
    {
     "name": "stdout",
     "output_type": "stream",
     "text": [
      "<class 'int'>\n",
      "<class 'float'>\n"
     ]
    }
   ],
   "source": [
    "a = 1\n",
    "b = 1.0\n",
    "print(type(a))\n",
    "print(type(b))"
   ]
  },
  {
   "cell_type": "markdown",
   "metadata": {},
   "source": [
    "`type(a)`で`a`の型`int`がインスタンスとなって返ってきた。\n",
    "\n",
    "`__class__`属性からも同じものが取得できる。"
   ]
  },
  {
   "cell_type": "code",
   "execution_count": 2,
   "metadata": {},
   "outputs": [
    {
     "name": "stdout",
     "output_type": "stream",
     "text": [
      "<class 'int'>\n",
      "<class 'float'>\n"
     ]
    }
   ],
   "source": [
    "print(a.__class__)\n",
    "print(b.__class__)"
   ]
  },
  {
   "cell_type": "markdown",
   "metadata": {},
   "source": [
    "`type(1)(3.5)`とかやると、`int(3.5)`と同じ意味になるので、`3`が返ってくる。"
   ]
  },
  {
   "cell_type": "code",
   "execution_count": 3,
   "metadata": {},
   "outputs": [
    {
     "data": {
      "text/plain": [
       "3"
      ]
     },
     "execution_count": 3,
     "metadata": {},
     "output_type": "execute_result"
    }
   ],
   "source": [
    "type(1)(3.5)"
   ]
  },
  {
   "cell_type": "markdown",
   "metadata": {},
   "source": [
    "関数の型を見てみよう。"
   ]
  },
  {
   "cell_type": "code",
   "execution_count": 4,
   "metadata": {},
   "outputs": [
    {
     "name": "stdout",
     "output_type": "stream",
     "text": [
      "<class 'function'>\n",
      "<class 'builtin_function_or_method'>\n"
     ]
    }
   ],
   "source": [
    "def f():\n",
    "    pass\n",
    "\n",
    "print(type(f))\n",
    "print(type(print))"
   ]
  },
  {
   "cell_type": "markdown",
   "metadata": {},
   "source": [
    "- ユーザ定義関数: `function`\n",
    "- 組み込み関数: `builtin_function_or_method`\n",
    "\n",
    "のよう。\n",
    "\n",
    "では型の型はどうなっているかというと、"
   ]
  },
  {
   "cell_type": "code",
   "execution_count": 5,
   "metadata": {},
   "outputs": [
    {
     "name": "stdout",
     "output_type": "stream",
     "text": [
      "<class 'type'>\n",
      "<class 'type'>\n"
     ]
    }
   ],
   "source": [
    "class A:\n",
    "    pass\n",
    "\n",
    "print(type(A))\n",
    "print(type(int))"
   ]
  },
  {
   "cell_type": "markdown",
   "metadata": {},
   "source": [
    "`type`となる。では`type`の型は"
   ]
  },
  {
   "cell_type": "code",
   "execution_count": 6,
   "metadata": {},
   "outputs": [
    {
     "data": {
      "text/plain": [
       "type"
      ]
     },
     "execution_count": 6,
     "metadata": {},
     "output_type": "execute_result"
    }
   ],
   "source": [
    "type(type)"
   ]
  },
  {
   "cell_type": "markdown",
   "metadata": {},
   "source": [
    "`type`だね。`type`が関数ではなくクラスであることがわかる。"
   ]
  },
  {
   "cell_type": "markdown",
   "metadata": {},
   "source": [
    "## `class`\n",
    "\n",
    "新たな型の定義。"
   ]
  },
  {
   "cell_type": "code",
   "execution_count": 7,
   "metadata": {},
   "outputs": [
    {
     "name": "stdout",
     "output_type": "stream",
     "text": [
      "<class '__main__.A'>\n"
     ]
    }
   ],
   "source": [
    "class A:\n",
    "    pass\n",
    "\n",
    "a = A()\n",
    "print(type(a))"
   ]
  },
  {
   "cell_type": "markdown",
   "metadata": {},
   "source": [
    "`モジュール名.クラス名`が得られる。"
   ]
  },
  {
   "cell_type": "code",
   "execution_count": 8,
   "metadata": {},
   "outputs": [
    {
     "data": {
      "text/plain": [
       "'__main__'"
      ]
     },
     "execution_count": 8,
     "metadata": {},
     "output_type": "execute_result"
    }
   ],
   "source": [
    "__name__ # モジュール名"
   ]
  },
  {
   "cell_type": "markdown",
   "metadata": {},
   "source": [
    "`type`を使ってクラスを定義することもできる。\n",
    "\n",
    "`type(\"class_name\", (object,), {\"method_name\": method})`とすると、`method_name`を持つ`object`を継承した`class_name`というクラスが定義される。"
   ]
  },
  {
   "cell_type": "code",
   "execution_count": 9,
   "metadata": {},
   "outputs": [
    {
     "name": "stdout",
     "output_type": "stream",
     "text": [
      "Hello World!\n"
     ]
    }
   ],
   "source": [
    "MyClass = type(\"MyClass\", (), {\"__call__\": lambda self: print(\"Hello World!\")})\n",
    "my_instance = MyClass()\n",
    "my_instance()"
   ]
  },
  {
   "cell_type": "markdown",
   "metadata": {},
   "source": [
    "`class Name(object):`というのは、内部で`type(\"Name\", (object,), {})`が呼ばれているということ。"
   ]
  },
  {
   "cell_type": "markdown",
   "metadata": {},
   "source": [
    "## メタクラス\n",
    "\n",
    "インスタンスがクラスとなるようなクラス。`type`はメタクラスの一つ。\n",
    "\n",
    "参考: [Pythonのクラスとメタクラスまとめ](https://astropengu.in/posts/32/)"
   ]
  },
  {
   "cell_type": "markdown",
   "metadata": {},
   "source": [
    "例として、キャメルケースでメソッド名を定義してもスネークケースに直してからクラスを定義してくれるメタクラスを作ってみる。"
   ]
  },
  {
   "cell_type": "code",
   "execution_count": 10,
   "metadata": {},
   "outputs": [],
   "source": [
    "import re\n",
    "def camel_to_snake(name):\n",
    "    return re.sub(r'(?<!^)(?=[A-Z])', '_', name).lower()\n",
    "\n",
    "class MyMeta(type):\n",
    "    def __new__(cls, name, bases, dict):\n",
    "        new_dict = {camel_to_snake(k): v for k, v in dict.items()}\n",
    "        return super().__new__(cls, name, bases, new_dict)"
   ]
  },
  {
   "cell_type": "markdown",
   "metadata": {},
   "source": [
    "これでクラスを定義してみる。"
   ]
  },
  {
   "cell_type": "code",
   "execution_count": 11,
   "metadata": {},
   "outputs": [
    {
     "name": "stdout",
     "output_type": "stream",
     "text": [
      "Hello World!\n",
      "'my_class' object has no attribute 'MyMethod'\n"
     ]
    }
   ],
   "source": [
    "MyClass = MyMeta(\"my_class\", (), {\"MyMethod\": lambda self: print(\"Hello World!\")})\n",
    "my_instance = MyClass()\n",
    "\n",
    "try:\n",
    "    my_instance.my_method()\n",
    "except Exception as e:\n",
    "    print(e)\n",
    "\n",
    "try:\n",
    "    my_instance.MyMethod()\n",
    "except Exception as e:\n",
    "    print(e)"
   ]
  },
  {
   "cell_type": "markdown",
   "metadata": {},
   "source": [
    "`MyMethod`とキャメルケースでメソッド名を指定したが、`my_method`とスネークケースに直されている。  \n",
    "`MyMethod`というメソッドを呼び出すとエラーになる。\n",
    "\n",
    "なお、デフォルトのメタクラス`type`を使うと"
   ]
  },
  {
   "cell_type": "code",
   "execution_count": 12,
   "metadata": {},
   "outputs": [
    {
     "name": "stdout",
     "output_type": "stream",
     "text": [
      "'my_class' object has no attribute 'my_method'\n",
      "Hello World!\n"
     ]
    }
   ],
   "source": [
    "MyClass = type(\"my_class\", (), {\"MyMethod\": lambda self: print(\"Hello World!\")})\n",
    "my_instance = MyClass()\n",
    "\n",
    "try:\n",
    "    my_instance.my_method()\n",
    "except Exception as e:\n",
    "    print(e)\n",
    "\n",
    "try:\n",
    "    my_instance.MyMethod()\n",
    "except Exception as e:\n",
    "    print(e)"
   ]
  },
  {
   "cell_type": "markdown",
   "metadata": {},
   "source": [
    "と`MyMethod`のままになる。\n",
    "\n",
    "`class Name(object):`の形でクラスを定義する際に任意のメタクラス`Meta`を指定する場合は、`class Name(object, metaclass=Meta):`とする。"
   ]
  },
  {
   "cell_type": "code",
   "execution_count": 13,
   "metadata": {},
   "outputs": [
    {
     "name": "stdout",
     "output_type": "stream",
     "text": [
      "Hello World!\n",
      "'MyClass' object has no attribute 'MyMethod'\n"
     ]
    }
   ],
   "source": [
    "class MyClass(metaclass=MyMeta):\n",
    "    def MyMethod(self):\n",
    "        print(\"Hello World!\")\n",
    "\n",
    "my_instance = MyClass()\n",
    "\n",
    "try:\n",
    "    my_instance.my_method()\n",
    "except Exception as e:\n",
    "    print(e)\n",
    "\n",
    "try:\n",
    "    my_instance.MyMethod()\n",
    "except Exception as e:\n",
    "    print(e)"
   ]
  },
  {
   "cell_type": "markdown",
   "metadata": {},
   "source": [
    "## 抽象基底クラス\n",
    "\n",
    "*Abstract Base Class, ABC*\n",
    "\n",
    "継承した際に特定のメソッドの実装を強制するクラス。そのメソッドは抽象メソッドと呼ぶ。"
   ]
  },
  {
   "cell_type": "markdown",
   "metadata": {},
   "source": [
    "`abc`モジュールを使う。"
   ]
  },
  {
   "cell_type": "code",
   "execution_count": 14,
   "metadata": {},
   "outputs": [],
   "source": [
    "from abc import ABCMeta, abstractmethod"
   ]
  },
  {
   "cell_type": "markdown",
   "metadata": {},
   "source": [
    "`abc.ABCMeta`をメタクラスとし、抽象メソッドにはデコレータで`abc.abstractmethod`を指定する。"
   ]
  },
  {
   "cell_type": "code",
   "execution_count": 15,
   "metadata": {},
   "outputs": [],
   "source": [
    "class MyABC(metaclass=ABCMeta):\n",
    "    @abstractmethod\n",
    "    def my_method(self):\n",
    "        pass"
   ]
  },
  {
   "cell_type": "markdown",
   "metadata": {},
   "source": [
    "これを継承するときは、`my_method`を実装しないとエラーになる。"
   ]
  },
  {
   "cell_type": "code",
   "execution_count": 16,
   "metadata": {},
   "outputs": [
    {
     "name": "stdout",
     "output_type": "stream",
     "text": [
      "Can't instantiate abstract class MyClass with abstract method my_method\n"
     ]
    }
   ],
   "source": [
    "class MyClass(MyABC):\n",
    "    pass\n",
    "\n",
    "try:\n",
    "    MyClass()\n",
    "except Exception as e:\n",
    "    print(e)"
   ]
  },
  {
   "cell_type": "markdown",
   "metadata": {},
   "source": [
    "実装すれば普通に動く。"
   ]
  },
  {
   "cell_type": "code",
   "execution_count": 17,
   "metadata": {},
   "outputs": [],
   "source": [
    "class MyClass(MyABC):\n",
    "    def my_method(self):\n",
    "        print(\"Hello World!\")\n",
    "\n",
    "try:\n",
    "    MyClass()\n",
    "except Exception as e:\n",
    "    print(e)"
   ]
  },
  {
   "cell_type": "markdown",
   "metadata": {},
   "source": [
    "ちなみに、抽象基底クラスはインスタンス化できない。"
   ]
  },
  {
   "cell_type": "code",
   "execution_count": 18,
   "metadata": {},
   "outputs": [
    {
     "name": "stdout",
     "output_type": "stream",
     "text": [
      "Can't instantiate abstract class MyABC with abstract method my_method\n"
     ]
    }
   ],
   "source": [
    "try:\n",
    "    my_abc = MyABC()\n",
    "except Exception as e:\n",
    "    print(e)"
   ]
  },
  {
   "cell_type": "markdown",
   "metadata": {},
   "source": [
    "抽象基底クラスは実装に制限をかけるもので、特殊な機能があるわけではない。コードの保守性を高めたい場合などに使う。"
   ]
  }
 ],
 "metadata": {
  "kernelspec": {
   "display_name": "all",
   "language": "python",
   "name": "python3"
  },
  "language_info": {
   "codemirror_mode": {
    "name": "ipython",
    "version": 3
   },
   "file_extension": ".py",
   "mimetype": "text/x-python",
   "name": "python",
   "nbconvert_exporter": "python",
   "pygments_lexer": "ipython3",
   "version": "3.11.4"
  }
 },
 "nbformat": 4,
 "nbformat_minor": 2
}

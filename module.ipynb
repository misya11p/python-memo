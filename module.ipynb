{
 "cells": [
  {
   "cell_type": "markdown",
   "metadata": {},
   "source": [
    "# モジュールを学ぼう"
   ]
  },
  {
   "cell_type": "markdown",
   "metadata": {},
   "source": [
    "## モジュール\n",
    "\n",
    "Pythonにおけるモジュールとは、単なる`.py`ファイルのこと。\n",
    "\n",
    "モジュールを使いこなすことで、プログラムを効率的に書くことができる。巨大化したプログラムを小さなモジュールに分割することで、プログラムの保守性や再利用性を高めることができる。プロジェクト内でよく使う関数やクラスをモジュールにまとめておくなどが一般的。"
   ]
  },
  {
   "cell_type": "markdown",
   "metadata": {},
   "source": [
    "適当なモジュールを作ってみよう。"
   ]
  },
  {
   "cell_type": "code",
   "execution_count": 1,
   "metadata": {},
   "outputs": [],
   "source": [
    "code = \"\"\"\n",
    "print(\"this is mymodule1\")\n",
    "var = 1\n",
    "def func():\n",
    "    print(\"hello\")\n",
    "\"\"\"\n",
    "\n",
    "with open(\"mymodule1.py\", \"w\") as f:\n",
    "    f.write(code)"
   ]
  },
  {
   "cell_type": "code",
   "execution_count": 2,
   "metadata": {},
   "outputs": [
    {
     "name": "stdout",
     "output_type": "stream",
     "text": [
      "\n",
      "print(\"this is mymodule1\")\n",
      "var = 1\n",
      "def func():\n",
      "    print(\"hello\")\n"
     ]
    }
   ],
   "source": [
    "!cat mymodule1.py"
   ]
  },
  {
   "cell_type": "markdown",
   "metadata": {},
   "source": [
    "カレントディレクトリに`mymodule1.py`を作った。shell上で`python {ファイルパス}`と入力するとこのプログラムが実行される。"
   ]
  },
  {
   "cell_type": "code",
   "execution_count": 3,
   "metadata": {},
   "outputs": [
    {
     "name": "stdout",
     "output_type": "stream",
     "text": [
      "this is mymodule1\n"
     ]
    }
   ],
   "source": [
    "!python mymodule1.py"
   ]
  },
  {
   "cell_type": "markdown",
   "metadata": {},
   "source": [
    "インポートしたモジュールに書かれていたコード（`print(\"this is module1\")`）が実行された。\n",
    "\n",
    "では、今度はカレントディレクトリではなく、`modules`というディレクトリの中に置いてみる。"
   ]
  },
  {
   "cell_type": "code",
   "execution_count": 4,
   "metadata": {},
   "outputs": [],
   "source": [
    "import os\n",
    "\n",
    "code = \"\"\"\n",
    "print(\"this is mymodule2\")\n",
    "var = 2\n",
    "def func():\n",
    "    print(\"hello\")\n",
    "\"\"\"\n",
    "\n",
    "os.makedirs(\"modules/\", exist_ok=True)\n",
    "with open(\"modules/mymodule2.py\", \"w\") as f:\n",
    "    f.write(code)"
   ]
  },
  {
   "cell_type": "code",
   "execution_count": 5,
   "metadata": {},
   "outputs": [
    {
     "name": "stdout",
     "output_type": "stream",
     "text": [
      "__pycache__  mymodule2.py\n"
     ]
    }
   ],
   "source": [
    "!ls modules/"
   ]
  },
  {
   "cell_type": "markdown",
   "metadata": {},
   "source": [
    "この場合も、同様にパスを指定することで実行できる。"
   ]
  },
  {
   "cell_type": "code",
   "execution_count": 6,
   "metadata": {},
   "outputs": [
    {
     "name": "stdout",
     "output_type": "stream",
     "text": [
      "this is mymodule2\n"
     ]
    }
   ],
   "source": [
    "!python modules/mymodule2.py"
   ]
  },
  {
   "cell_type": "markdown",
   "metadata": {},
   "source": [
    "\n",
    "---\n",
    "\n",
    "## `import`\n",
    "\n",
    "Pythonのコードからモジュールを使うには`import`を使う。"
   ]
  },
  {
   "cell_type": "code",
   "execution_count": 7,
   "metadata": {},
   "outputs": [
    {
     "name": "stdout",
     "output_type": "stream",
     "text": [
      "this is mymodule1\n"
     ]
    }
   ],
   "source": [
    "import mymodule1"
   ]
  },
  {
   "cell_type": "markdown",
   "metadata": {},
   "source": [
    "インポートしたモジュールに書かれていたコード（`print(\"hello\")`）が実行された。なお複数回インポートしても実行されるのは1回だけ。"
   ]
  },
  {
   "cell_type": "code",
   "execution_count": 8,
   "metadata": {},
   "outputs": [],
   "source": [
    "import mymodule1"
   ]
  },
  {
   "cell_type": "markdown",
   "metadata": {},
   "source": [
    "サブディレクトリにあるモジュールは`ディレクトリ名.モジュール名`と書いてインポートする。"
   ]
  },
  {
   "cell_type": "code",
   "execution_count": 9,
   "metadata": {},
   "outputs": [
    {
     "name": "stdout",
     "output_type": "stream",
     "text": [
      "this is mymodule2\n",
      "hello\n"
     ]
    }
   ],
   "source": [
    "import modules.mymodule2\n",
    "modules.mymodule2.func()"
   ]
  },
  {
   "cell_type": "markdown",
   "metadata": {},
   "source": [
    "インポートをすると、定義した変数や関数にアクセスすることができる。`モジュール名.変数名`や`モジュール名.関数名()`と書く。"
   ]
  },
  {
   "cell_type": "code",
   "execution_count": 10,
   "metadata": {},
   "outputs": [
    {
     "data": {
      "text/plain": [
       "1"
      ]
     },
     "execution_count": 10,
     "metadata": {},
     "output_type": "execute_result"
    }
   ],
   "source": [
    "mymodule1.var"
   ]
  },
  {
   "cell_type": "code",
   "execution_count": 11,
   "metadata": {},
   "outputs": [
    {
     "name": "stdout",
     "output_type": "stream",
     "text": [
      "hello\n"
     ]
    }
   ],
   "source": [
    "mymodule1.func()"
   ]
  },
  {
   "cell_type": "markdown",
   "metadata": {},
   "source": [
    "ちなみに、インポートしたモジュールは`module`という型になるらしい。"
   ]
  },
  {
   "cell_type": "code",
   "execution_count": 12,
   "metadata": {},
   "outputs": [
    {
     "data": {
      "text/plain": [
       "module"
      ]
     },
     "execution_count": 12,
     "metadata": {},
     "output_type": "execute_result"
    }
   ],
   "source": [
    "type(mymodule1)"
   ]
  },
  {
   "cell_type": "markdown",
   "metadata": {},
   "source": [
    "### `from`\n",
    "\n",
    "特定の変数や関数だけを使いたい場合は、`from`を使う。"
   ]
  },
  {
   "cell_type": "code",
   "execution_count": 13,
   "metadata": {},
   "outputs": [],
   "source": [
    "# 一旦削除\n",
    "del mymodule1\n",
    "del modules"
   ]
  },
  {
   "cell_type": "code",
   "execution_count": 14,
   "metadata": {},
   "outputs": [],
   "source": [
    "# funcだけインポート\n",
    "from mymodule1 import func"
   ]
  },
  {
   "cell_type": "code",
   "execution_count": 15,
   "metadata": {},
   "outputs": [
    {
     "name": "stdout",
     "output_type": "stream",
     "text": [
      "hello\n"
     ]
    }
   ],
   "source": [
    "func()"
   ]
  },
  {
   "cell_type": "markdown",
   "metadata": {},
   "source": [
    "`func`だけインポート出来た。こうしてインポートした場合はモジュール名を書く必要がない。むしろ書くとエラーになる。"
   ]
  },
  {
   "cell_type": "code",
   "execution_count": 16,
   "metadata": {},
   "outputs": [
    {
     "name": "stdout",
     "output_type": "stream",
     "text": [
      "name 'mymodule1' is not defined\n"
     ]
    }
   ],
   "source": [
    "try:\n",
    "    mymodule1.func()\n",
    "except Exception as e:\n",
    "    print(e)"
   ]
  },
  {
   "cell_type": "markdown",
   "metadata": {},
   "source": [
    "当然、他の変数などにはアクセスできない。"
   ]
  },
  {
   "cell_type": "code",
   "execution_count": 17,
   "metadata": {},
   "outputs": [
    {
     "name": "stdout",
     "output_type": "stream",
     "text": [
      "name 'var' is not defined\n"
     ]
    }
   ],
   "source": [
    "try:\n",
    "    print(var)\n",
    "except Exception as e:\n",
    "    print(e)"
   ]
  },
  {
   "cell_type": "markdown",
   "metadata": {},
   "source": [
    "`from ディレクトリ名 import モジュール名`と書くこともできる。"
   ]
  },
  {
   "cell_type": "code",
   "execution_count": 18,
   "metadata": {},
   "outputs": [
    {
     "name": "stdout",
     "output_type": "stream",
     "text": [
      "hello\n"
     ]
    }
   ],
   "source": [
    "from modules import mymodule2\n",
    "mymodule2.func()"
   ]
  },
  {
   "cell_type": "markdown",
   "metadata": {},
   "source": [
    "また、`*`を使うとモジュール内の全ての機能をインポートできる。"
   ]
  },
  {
   "cell_type": "code",
   "execution_count": 19,
   "metadata": {},
   "outputs": [
    {
     "name": "stdout",
     "output_type": "stream",
     "text": [
      "1\n",
      "hello\n"
     ]
    }
   ],
   "source": [
    "from mymodule1 import *\n",
    "print(var)\n",
    "func()"
   ]
  },
  {
   "cell_type": "markdown",
   "metadata": {},
   "source": [
    "ただ名前空間がごちゃごちゃするのであんま使わない方がいい。"
   ]
  },
  {
   "cell_type": "markdown",
   "metadata": {},
   "source": [
    "### `as`\n",
    "\n",
    "`as`を使うと任意の名前でモジュールや機能をインポートすることができる。"
   ]
  },
  {
   "cell_type": "code",
   "execution_count": 20,
   "metadata": {},
   "outputs": [
    {
     "name": "stdout",
     "output_type": "stream",
     "text": [
      "hello\n",
      "hello\n"
     ]
    }
   ],
   "source": [
    "import mymodule1 as mm1\n",
    "mm1.func()\n",
    "\n",
    "from mymodule1 import func as myfunc\n",
    "myfunc()"
   ]
  },
  {
   "cell_type": "markdown",
   "metadata": {},
   "source": [
    "\n",
    "---\n",
    "\n",
    "## path\n",
    "\n",
    "モジュールを探してくれる場所。\n",
    "\n",
    "先程はカレントディレクトリ以下にモジュールを置いたが、それ以外の場所に置いてもインポートできる。"
   ]
  },
  {
   "cell_type": "markdown",
   "metadata": {},
   "source": [
    "現在、カレントディレクトリに存在するモジュールは以下である。"
   ]
  },
  {
   "cell_type": "code",
   "execution_count": 21,
   "metadata": {},
   "outputs": [
    {
     "name": "stdout",
     "output_type": "stream",
     "text": [
      "mymodule1.py  random.py\n"
     ]
    }
   ],
   "source": [
    "!ls *.py"
   ]
  },
  {
   "cell_type": "markdown",
   "metadata": {},
   "source": [
    "ではこれ以外のモジュールはインポートできないのかというとそんなことはなく、いくらでもインポートできる。"
   ]
  },
  {
   "cell_type": "code",
   "execution_count": 22,
   "metadata": {},
   "outputs": [],
   "source": [
    "import random\n",
    "import math\n",
    "import pathlib"
   ]
  },
  {
   "cell_type": "markdown",
   "metadata": {},
   "source": [
    "これらがどこにあるかを見てみよう。モジュールにはだいたい`__file__`という属性があり、これを見るとモジュールの場所がわかる。"
   ]
  },
  {
   "cell_type": "code",
   "execution_count": 23,
   "metadata": {},
   "outputs": [
    {
     "name": "stdout",
     "output_type": "stream",
     "text": [
      "/home/komiya/.miniforge3/envs/basic/lib/python3.10/random.py\n",
      "/home/komiya/.miniforge3/envs/basic/lib/python3.10/pathlib.py\n",
      "/home/komiya/.miniforge3/envs/basic/lib/python3.10/lib-dynload/math.cpython-310-x86_64-linux-gnu.so\n"
     ]
    }
   ],
   "source": [
    "print(random.__file__)\n",
    "print(pathlib.__file__)\n",
    "print(math.__file__)"
   ]
  },
  {
   "cell_type": "markdown",
   "metadata": {},
   "source": [
    "私は今回miniforgeで作った環境を使っているので、その中にあるモジュールがインポートされたみたいね。\n",
    "\n",
    "ということで、カレントディレクトリ以外にあるモジュールもインポートできることが分かった。では具体的にどこを探してくれるのだろう。まさかPC内の全ての場所を探してくれるわけではないだろう。\n",
    "\n",
    "`sys.path`を見てみよう。これはモジュールを探す場所のリスト。こういう、モジュールやコマンドを探してくれる場所をpathという。pathを通すとかよく言うでしょ。"
   ]
  },
  {
   "cell_type": "code",
   "execution_count": 24,
   "metadata": {},
   "outputs": [
    {
     "data": {
      "text/plain": [
       "['/home/komiya/.miniforge3/envs/basic/lib/python310.zip',\n",
       " '/home/komiya/.miniforge3/envs/basic/lib/python3.10',\n",
       " '/home/komiya/.miniforge3/envs/basic/lib/python3.10/lib-dynload',\n",
       " '',\n",
       " '/home/komiya/.miniforge3/envs/basic/lib/python3.10/site-packages']"
      ]
     },
     "execution_count": 24,
     "metadata": {},
     "output_type": "execute_result"
    }
   ],
   "source": [
    "import sys\n",
    "sys.path"
   ]
  },
  {
   "cell_type": "markdown",
   "metadata": {},
   "source": [
    "カレントディレクトリ（`''`）に加えていくつかのディレクトリにpathが通っているのが分かる。これらのディレクトリにモジュールがあればインポートできる。インストールしたモジュールもここに入っている。`pip`や`conda`等のパッケージマネージャがここに入れてくれる。"
   ]
  },
  {
   "cell_type": "code",
   "execution_count": 25,
   "metadata": {},
   "outputs": [
    {
     "data": {
      "text/plain": [
       "'/home/komiya/.miniforge3/envs/basic/lib/python3.10/site-packages/numpy/__init__.py'"
      ]
     },
     "execution_count": 25,
     "metadata": {},
     "output_type": "execute_result"
    }
   ],
   "source": [
    "import numpy as np\n",
    "np.__file__"
   ]
  },
  {
   "cell_type": "markdown",
   "metadata": {},
   "source": [
    "`sys.path`はただのリストなので、追加や削除ができる。\n",
    "\n",
    "例えば、新たに`modules`を追加してみる。すると、`modules`にあるモジュールを探してくれるようになるので、`modules`を指定せずとも`mymodule2`がインポートできるようになる。"
   ]
  },
  {
   "cell_type": "code",
   "execution_count": 26,
   "metadata": {},
   "outputs": [
    {
     "data": {
      "text/plain": [
       "['/home/komiya/.miniforge3/envs/basic/lib/python310.zip',\n",
       " '/home/komiya/.miniforge3/envs/basic/lib/python3.10',\n",
       " '/home/komiya/.miniforge3/envs/basic/lib/python3.10/lib-dynload',\n",
       " '',\n",
       " '/home/komiya/.miniforge3/envs/basic/lib/python3.10/site-packages',\n",
       " 'modules/']"
      ]
     },
     "execution_count": 26,
     "metadata": {},
     "output_type": "execute_result"
    }
   ],
   "source": [
    "sys.path.append(\"modules/\")\n",
    "sys.path"
   ]
  },
  {
   "cell_type": "code",
   "execution_count": 27,
   "metadata": {},
   "outputs": [
    {
     "name": "stdout",
     "output_type": "stream",
     "text": [
      "this is mymodule2\n"
     ]
    }
   ],
   "source": [
    "import mymodule2"
   ]
  },
  {
   "cell_type": "markdown",
   "metadata": {},
   "source": [
    "また、このリストの順番がそのまま優先度となっており、同じ名前のモジュールが複数存在する場合は先に見つかったもの（リストの順番が早い方）が使われる。"
   ]
  },
  {
   "cell_type": "code",
   "execution_count": 28,
   "metadata": {},
   "outputs": [
    {
     "data": {
      "text/plain": [
       "'/home/komiya/.miniforge3/envs/basic/lib/python3.10/random.py'"
      ]
     },
     "execution_count": 28,
     "metadata": {},
     "output_type": "execute_result"
    }
   ],
   "source": [
    "# カレントディレクトリにrandomモジュールを作成\n",
    "with open(\"random.py\", \"w\") as f:\n",
    "    f.write(code)\n",
    "\n",
    "del random\n",
    "import random\n",
    "\n",
    "# もう一個のrandomモジュールの方が優先度が高いのでそちらが使われる\n",
    "random.__file__"
   ]
  }
 ],
 "metadata": {
  "kernelspec": {
   "display_name": "base",
   "language": "python",
   "name": "python3"
  },
  "language_info": {
   "codemirror_mode": {
    "name": "ipython",
    "version": 3
   },
   "file_extension": ".py",
   "mimetype": "text/x-python",
   "name": "python",
   "nbconvert_exporter": "python",
   "pygments_lexer": "ipython3",
   "version": "3.10.14"
  }
 },
 "nbformat": 4,
 "nbformat_minor": 2
}

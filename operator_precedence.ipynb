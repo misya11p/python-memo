{
 "cells": [
  {
   "attachments": {},
   "cell_type": "markdown",
   "metadata": {},
   "source": [
    "# Pythonの演算子の優先度\n",
    "\n",
    "例えば、数学では足し算よりも掛け算を先に行う。\n",
    "\n",
    "$$\n",
    "\\begin{align}\n",
    "1 + 2 \\times 3\n",
    "    &= 1 + 6 \\\\\n",
    "    &= 7\n",
    "\\end{align}\n",
    "$$\n",
    "\n",
    "これはPythonでも同じ。"
   ]
  },
  {
   "cell_type": "code",
   "execution_count": 1,
   "metadata": {},
   "outputs": [
    {
     "data": {
      "text/plain": [
       "7"
      ]
     },
     "execution_count": 1,
     "metadata": {},
     "output_type": "execute_result"
    }
   ],
   "source": [
    "1 + 2 * 3"
   ]
  },
  {
   "attachments": {},
   "cell_type": "markdown",
   "metadata": {},
   "source": [
    "なぜこれが実現するかというと、加算演算子`+`よりも乗算演算子`*`の方が優先度が高いから。\n",
    "\n",
    "このように、演算子には優先度があり、優先度の高い演算ほど早く評価される。\n",
    "\n",
    "<br>\n",
    "\n",
    "補足\n",
    "- プログラミングにおける「評価」という言葉について: [評価という言葉そのものの意味](https://teratail.com/questions/41969)"
   ]
  },
  {
   "attachments": {},
   "cell_type": "markdown",
   "metadata": {},
   "source": [
    "\n",
    "---\n",
    "\n",
    "## 優先度一覧\n",
    "\n",
    "演算子の優先度は以下のようにまとめられる。  \n",
    "引用: [Python | 演算子の優先順位](https://www.javadrive.jp/python/num/index3.html)\n",
    "\n",
    "| 演算子 | 説明 |\n",
    "|---|--- |\n",
    "| (expressions...), [expressions...], {key: value...}, {expressions...}|式結合・タプル, リスト, 辞書, 集合 |\n",
    "| x[index], x[index:index], x(arguments...), x.attribute | 添字指定, スライス操作, 呼び出し, 属性参照 |\n",
    "| await x | Await式  |\n",
    "| ** | べき乗 |\n",
    "| +x, -x, ~x | 正数, 負数, ビット単位 NOT |\n",
    "| *, @, /, //, % | 乗算, 行列乗算, 除算, 切り捨て除算, 剰余 |\n",
    "| +, - | 加算, 減算 |\n",
    "| <<, >> | シフト演算 |\n",
    "| & | ビット単位 AND |\n",
    "| ^ | ビット単位 XOR |\n",
    "| \\| | ビット単位 OR |\n",
    "| in, not in, is, is not, <, <=, >, >=, !=, == | 所属, 同一性, 比較演算 |\n",
    "| not x | 論理演算 NOT |\n",
    "| and | 論理演算 AND |\n",
    "| or | 論理演算 OR |\n",
    "| if -- else | 条件式 |\n",
    "| lambda | ラムダ式 |"
   ]
  },
  {
   "attachments": {},
   "cell_type": "markdown",
   "metadata": {},
   "source": [
    "例えば、以下のような式を考える\n",
    "\n",
    "```python\n",
    "4 - 3 ** 2 * 3\n",
    "``` \n",
    "\n",
    "↑の表を見ると、この式は以下のように解釈できる。\n",
    "\n",
    "```python\n",
    "4 - ((3 ** 2) * 3)\n",
    "```\n",
    "\n",
    "べき乗が最も優先され、次に乗算が優先され、最後に減算が優先される。\n",
    "\n",
    "$$\n",
    "\\begin{align}\n",
    "4 - 3^2 \\times 3\n",
    "    &= 4 - 9 \\times 3 \\\\\n",
    "    &= 4 - 27 \\\\\n",
    "    &= -23\n",
    "\\end{align}\n",
    "$$"
   ]
  },
  {
   "cell_type": "code",
   "execution_count": 3,
   "metadata": {},
   "outputs": [
    {
     "data": {
      "text/plain": [
       "-23"
      ]
     },
     "execution_count": 3,
     "metadata": {},
     "output_type": "execute_result"
    }
   ],
   "source": [
    "4 - 3 ** 2 * 3"
   ]
  },
  {
   "attachments": {},
   "cell_type": "markdown",
   "metadata": {},
   "source": [
    "他の例もみてみよう\n",
    "\n",
    "```python\n",
    "2 or 0 if not 1 and 3 - 3 ** 0 else 4 or 4 % 2\n",
    "```\n",
    "\n",
    "これは以下のように解釈できる。\n",
    "\n",
    "```python\n",
    "(2 or 0) if ((not 1) and (3 - (3 ** 0))) else (4 or (4 % 2))\n",
    "```\n",
    "\n",
    "この式の中で`if -- else`が最も優先度が低いため、全体を`a if b else c`の形として解釈できる。  \n",
    "初めに、`b`にあたる条件式を評価する。\n",
    "\n",
    "`((not 1) and (3 - (3 ** 0)))`  \n",
    "= `((False and (3 - 1))`  \n",
    "= `(False and 2)`  \n",
    "= `2`\n",
    "\n",
    "ということで、条件は`True`となる。よって、`c`にあたる`(4 or (4 % 2))`が選ばれる。  \n",
    "そして\n",
    "\n",
    "`(4 or (4 % 2))`  \n",
    "= `4 or 0`  \n",
    "= `4`\n",
    "\n",
    "となるため、元の式は`4`となる。"
   ]
  },
  {
   "cell_type": "code",
   "execution_count": 4,
   "metadata": {},
   "outputs": [
    {
     "data": {
      "text/plain": [
       "4"
      ]
     },
     "execution_count": 4,
     "metadata": {},
     "output_type": "execute_result"
    }
   ],
   "source": [
    "2 or 0 if not 1 and 3 - 3 ** 0 else 4 or 4 % 2"
   ]
  },
  {
   "attachments": {},
   "cell_type": "markdown",
   "metadata": {},
   "source": [
    "\n",
    "---\n",
    "\n",
    "## 優先度が同じ場合\n",
    "\n",
    "優先度が同じ場合は、**べき乗を除いて**、左から右に評価される。べき乗だけは右から左に評価される。\n",
    "\n",
    "例えば、以下の式。\n",
    "\n",
    "```python\n",
    "14 % 5 % 3\n",
    "```\n",
    "\n",
    "同じ（優先度の）演算子なので、左から右に評価される。\n",
    "\n",
    "`(14 % 5) % 3`  \n",
    "= `4 % 3`  \n",
    "= `1`"
   ]
  },
  {
   "cell_type": "code",
   "execution_count": 5,
   "metadata": {},
   "outputs": [
    {
     "data": {
      "text/plain": [
       "1"
      ]
     },
     "execution_count": 5,
     "metadata": {},
     "output_type": "execute_result"
    }
   ],
   "source": [
    "14 % 5 % 3"
   ]
  },
  {
   "attachments": {},
   "cell_type": "markdown",
   "metadata": {},
   "source": [
    "演算子が異なる場合も、優先度が同じ場合は左から右に評価される。\n",
    "\n",
    "```python\n",
    "9 // 2 * 3\n",
    "```\n",
    "\n",
    "`(9 // 2) * 3`  \n",
    "= `4 * 3`  \n",
    "= `12`"
   ]
  },
  {
   "cell_type": "code",
   "execution_count": 6,
   "metadata": {},
   "outputs": [
    {
     "data": {
      "text/plain": [
       "12"
      ]
     },
     "execution_count": 6,
     "metadata": {},
     "output_type": "execute_result"
    }
   ],
   "source": [
    "9 // 2 * 3"
   ]
  },
  {
   "attachments": {},
   "cell_type": "markdown",
   "metadata": {},
   "source": [
    "べき乗の場合は、右から左に評価される。\n",
    "\n",
    "```python\n",
    "2 ** 3 ** 2\n",
    "```\n",
    "\n",
    "`2 ** (3 ** 2)`  \n",
    "= `2 ** 9`  \n",
    "= `512`"
   ]
  },
  {
   "cell_type": "code",
   "execution_count": 7,
   "metadata": {},
   "outputs": [
    {
     "data": {
      "text/plain": [
       "512"
      ]
     },
     "execution_count": 7,
     "metadata": {},
     "output_type": "execute_result"
    }
   ],
   "source": [
    "2 ** 3 ** 2"
   ]
  },
  {
   "attachments": {},
   "cell_type": "markdown",
   "metadata": {},
   "source": [
    "演算子の優先度は、以下のように実装することで確認できる。"
   ]
  },
  {
   "cell_type": "code",
   "execution_count": 8,
   "metadata": {},
   "outputs": [],
   "source": [
    "class TestInt(int):\n",
    "    def __add__(self, value):\n",
    "        print(f'{self} + {value}')\n",
    "        return TestInt(super().__add__(value))\n",
    "\n",
    "    def __pow__(self, value):\n",
    "        print(f'{self} ** {value}')\n",
    "        return TestInt(super().__pow__(value))\n",
    "\n",
    "a = TestInt(1)\n",
    "b = TestInt(2)\n",
    "c = TestInt(3)"
   ]
  },
  {
   "cell_type": "code",
   "execution_count": 9,
   "metadata": {},
   "outputs": [
    {
     "name": "stdout",
     "output_type": "stream",
     "text": [
      "1 + 2\n",
      "3 + 3\n"
     ]
    }
   ],
   "source": [
    "a + b + c;"
   ]
  },
  {
   "attachments": {},
   "cell_type": "markdown",
   "metadata": {},
   "source": [
    "左（`1 + 2`）から評価されている。"
   ]
  },
  {
   "cell_type": "code",
   "execution_count": 10,
   "metadata": {},
   "outputs": [
    {
     "name": "stdout",
     "output_type": "stream",
     "text": [
      "2 ** 3\n",
      "1 ** 8\n"
     ]
    }
   ],
   "source": [
    "a ** b ** c;"
   ]
  },
  {
   "attachments": {},
   "cell_type": "markdown",
   "metadata": {},
   "source": [
    "べき乗は右（`2 ** 3`）から評価される。"
   ]
  }
 ],
 "metadata": {
  "kernelspec": {
   "display_name": "all",
   "language": "python",
   "name": "python3"
  },
  "language_info": {
   "codemirror_mode": {
    "name": "ipython",
    "version": 3
   },
   "file_extension": ".py",
   "mimetype": "text/x-python",
   "name": "python",
   "nbconvert_exporter": "python",
   "pygments_lexer": "ipython3",
   "version": "3.9.13"
  },
  "orig_nbformat": 4
 },
 "nbformat": 4,
 "nbformat_minor": 2
}
